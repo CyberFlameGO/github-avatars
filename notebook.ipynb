{
 "cells": [
  {
   "cell_type": "code",
   "execution_count": 18,
   "id": "1fbbe1dd",
   "metadata": {},
   "outputs": [],
   "source": [
    "from sklearn import tree\n",
    "from sklearn.datasets import load_files\n",
    "import numpy as np\n",
    "import matplotlib.pyplot as plt\n",
    "from PIL import Image"
   ]
  },
  {
   "cell_type": "code",
   "execution_count": 2,
   "id": "e8320198",
   "metadata": {},
   "outputs": [
    {
     "data": {
      "text/plain": [
       "{'filenames': array(['./avatars/custom/emmas.png', './avatars/default/saxe.png',\n",
       "        './avatars/default/cava.png', './avatars/default/awner.png',\n",
       "        './avatars/default/sophs.png', './avatars/default/talas.png',\n",
       "        './avatars/custom/askew.png', './avatars/default/mairs.png',\n",
       "        './avatars/custom/casco.png', './avatars/default/moobs.png',\n",
       "        './avatars/custom/septa.png', './avatars/default/gaes.png',\n",
       "        './avatars/default/suqs.png', './avatars/default/newed.png',\n",
       "        './avatars/custom/vexil.png', './avatars/custom/bacon.png',\n",
       "        './avatars/custom/loto.png', './avatars/default/hough.png',\n",
       "        './avatars/custom/mash.png', './avatars/custom/twp.png',\n",
       "        './avatars/default/taler.png', './avatars/default/luke.png',\n",
       "        './avatars/custom/nied.png', './avatars/default/pooed.png',\n",
       "        './avatars/custom/sassy.png', './avatars/default/fraus.png',\n",
       "        './avatars/default/succi.png', './avatars/default/theek.png',\n",
       "        './avatars/default/foo.png', './avatars/custom/net.png',\n",
       "        './avatars/custom/e.png', './avatars/custom/rem.png',\n",
       "        './avatars/default/mobby.png', './avatars/default/domed.png',\n",
       "        './avatars/custom/fjeld.png', './avatars/default/trick.png',\n",
       "        './avatars/default/goer.png', './avatars/custom/apism.png',\n",
       "        './avatars/custom/wites.png', './avatars/default/brens.png',\n",
       "        './avatars/default/isled.png', './avatars/custom/sods.png',\n",
       "        './avatars/custom/howls.png', './avatars/default/dynes.png',\n",
       "        './avatars/default/saist.png', './avatars/custom/smits.png',\n",
       "        './avatars/custom/bar.png', './avatars/custom/ungot.png',\n",
       "        './avatars/default/exes.png', './avatars/default/lend.png',\n",
       "        './avatars/custom/take.png', './avatars/default/fuffy.png',\n",
       "        './avatars/default/teals.png', './avatars/default/aura.png',\n",
       "        './avatars/default/missa.png', './avatars/custom/hatch.png',\n",
       "        './avatars/custom/leave.png', './avatars/default/poofs.png',\n",
       "        './avatars/custom/modus.png', './avatars/custom/retch.png',\n",
       "        './avatars/default/hyla.png', './avatars/default/aroha.png',\n",
       "        './avatars/default/swobs.png', './avatars/custom/eros.png',\n",
       "        './avatars/default/nevel.png', './avatars/default/agoge.png',\n",
       "        './avatars/custom/recal.png', './avatars/default/pygmy.png',\n",
       "        './avatars/custom/pom.png', './avatars/custom/zeke.png',\n",
       "        './avatars/default/laker.png', './avatars/default/adits.png',\n",
       "        './avatars/default/kofta.png', './avatars/default/bito.png',\n",
       "        './avatars/default/lorry.png', './avatars/default/abrim.png',\n",
       "        './avatars/default/cheek.png', './avatars/custom/doggo.png',\n",
       "        './avatars/custom/i.png', './avatars/default/laxer.png',\n",
       "        './avatars/default/ticks.png', './avatars/custom/pappi.png',\n",
       "        './avatars/default/kulfi.png', './avatars/default/weed.png',\n",
       "        './avatars/default/chaya.png', './avatars/custom/shred.png',\n",
       "        './avatars/custom/ads.png', './avatars/custom/rubes.png',\n",
       "        './avatars/default/kayo.png', './avatars/default/wizes.png',\n",
       "        './avatars/custom/namus.png', './avatars/custom/baz.png',\n",
       "        './avatars/default/vets.png', './avatars/custom/tup.png',\n",
       "        './avatars/default/wersh.png', './avatars/default/spewy.png',\n",
       "        './avatars/default/snaws.png', './avatars/default/gaid.png',\n",
       "        './avatars/default/alapa.png', './avatars/default/draff.png',\n",
       "        './avatars/default/pheer.png', './avatars/default/turme.png',\n",
       "        './avatars/custom/piki.png', './avatars/custom/a.png',\n",
       "        './avatars/default/amice.png', './avatars/default/deely.png',\n",
       "        './avatars/default/ark.png', './avatars/custom/smug.png',\n",
       "        './avatars/default/runed.png', './avatars/custom/muir.png',\n",
       "        './avatars/custom/susu.png', './avatars/custom/peat.png',\n",
       "        './avatars/custom/peak.png', './avatars/custom/yore.png',\n",
       "        './avatars/custom/d.png', './avatars/default/prong.png',\n",
       "        './avatars/custom/gleam.png', './avatars/default/thuds.png',\n",
       "        './avatars/default/jehad.png', './avatars/custom/evo.png',\n",
       "        './avatars/custom/doob.png', './avatars/custom/vatic.png',\n",
       "        './avatars/default/blow.png', './avatars/custom/preps.png',\n",
       "        './avatars/default/bewig.png', './avatars/custom/unwed.png',\n",
       "        './avatars/custom/aloha.png', './avatars/default/eger.png',\n",
       "        './avatars/default/rend.png', './avatars/default/yawny.png',\n",
       "        './avatars/custom/azoic.png', './avatars/custom/stop.png',\n",
       "        './avatars/custom/xerus.png', './avatars/default/fogs.png',\n",
       "        './avatars/default/oozes.png', './avatars/default/self.png',\n",
       "        './avatars/default/ossa.png', './avatars/default/afro.png',\n",
       "        './avatars/default/yorp.png', './avatars/custom/bids.png',\n",
       "        './avatars/default/few.png', './avatars/default/bitos.png',\n",
       "        './avatars/custom/lyne.png', './avatars/custom/rimy.png',\n",
       "        './avatars/custom/snook.png', './avatars/custom/ad.png',\n",
       "        './avatars/default/flab.png', './avatars/default/pull.png',\n",
       "        './avatars/custom/n.png', './avatars/default/bonus.png',\n",
       "        './avatars/default/ick.png', './avatars/default/shmek.png',\n",
       "        './avatars/custom/eik.png', './avatars/custom/matzo.png',\n",
       "        './avatars/default/inula.png', './avatars/custom/raid.png',\n",
       "        './avatars/default/pert.png', './avatars/default/glitz.png',\n",
       "        './avatars/custom/loud.png', './avatars/custom/kas.png',\n",
       "        './avatars/default/dzho.png', './avatars/default/mony.png',\n",
       "        './avatars/custom/leves.png', './avatars/default/rote.png',\n",
       "        './avatars/default/garbe.png', './avatars/default/soms.png',\n",
       "        './avatars/custom/lilt.png', './avatars/default/leet.png',\n",
       "        './avatars/default/santo.png', './avatars/default/midgy.png',\n",
       "        './avatars/custom/keech.png', './avatars/default/balky.png',\n",
       "        './avatars/custom/whet.png', './avatars/custom/veto.png',\n",
       "        './avatars/default/edema.png', './avatars/default/mires.png',\n",
       "        './avatars/default/vent.png', './avatars/custom/tipt.png',\n",
       "        './avatars/custom/v.png', './avatars/custom/heme.png',\n",
       "        './avatars/default/rink.png', './avatars/custom/waw.png',\n",
       "        './avatars/default/torn.png', './avatars/default/skis.png',\n",
       "        './avatars/default/trunk.png', './avatars/custom/mihi.png',\n",
       "        './avatars/custom/rip.png', './avatars/default/lath.png',\n",
       "        './avatars/custom/zila.png', './avatars/custom/tacan.png',\n",
       "        './avatars/custom/zel.png', './avatars/custom/males.png',\n",
       "        './avatars/custom/feel.png', './avatars/custom/bason.png',\n",
       "        './avatars/default/bley.png', './avatars/custom/softa.png',\n",
       "        './avatars/default/typy.png', './avatars/default/exeat.png',\n",
       "        './avatars/custom/patte.png', './avatars/default/setup.png'],\n",
       "       dtype='<U27'),\n",
       " 'target_names': ['custom', 'default'],\n",
       " 'target': array([0, 1, 1, 1, 1, 1, 0, 1, 0, 1, 0, 1, 1, 1, 0, 0, 0, 1, 0, 0, 1, 1,\n",
       "        0, 1, 0, 1, 1, 1, 1, 0, 0, 0, 1, 1, 0, 1, 1, 0, 0, 1, 1, 0, 0, 1,\n",
       "        1, 0, 0, 0, 1, 1, 0, 1, 1, 1, 1, 0, 0, 1, 0, 0, 1, 1, 1, 0, 1, 1,\n",
       "        0, 1, 0, 0, 1, 1, 1, 1, 1, 1, 1, 0, 0, 1, 1, 0, 1, 1, 1, 0, 0, 0,\n",
       "        1, 1, 0, 0, 1, 0, 1, 1, 1, 1, 1, 1, 1, 1, 0, 0, 1, 1, 1, 0, 1, 0,\n",
       "        0, 0, 0, 0, 0, 1, 0, 1, 1, 0, 0, 0, 1, 0, 1, 0, 0, 1, 1, 1, 0, 0,\n",
       "        0, 1, 1, 1, 1, 1, 1, 0, 1, 1, 0, 0, 0, 0, 1, 1, 0, 1, 1, 1, 0, 0,\n",
       "        1, 0, 1, 1, 0, 0, 1, 1, 0, 1, 1, 1, 0, 1, 1, 1, 0, 1, 0, 0, 1, 1,\n",
       "        1, 0, 0, 0, 1, 0, 1, 1, 1, 0, 0, 1, 0, 0, 0, 0, 0, 0, 1, 0, 1, 1,\n",
       "        0, 1]),\n",
       " 'DESCR': None}"
      ]
     },
     "execution_count": 2,
     "metadata": {},
     "output_type": "execute_result"
    }
   ],
   "source": [
    "files = load_files('./avatars', load_content=False)"
   ]
  },
  {
   "cell_type": "code",
   "execution_count": 9,
   "id": "aa8b6469",
   "metadata": {},
   "outputs": [
    {
     "data": {
      "text/plain": [
       "dict_keys(['filenames', 'target_names', 'target', 'DESCR'])"
      ]
     },
     "execution_count": 9,
     "metadata": {},
     "output_type": "execute_result"
    }
   ],
   "source": [
    "files.keys()"
   ]
  },
  {
   "cell_type": "code",
   "execution_count": 10,
   "id": "6e525e6d",
   "metadata": {},
   "outputs": [
    {
     "data": {
      "text/plain": [
       "array([0, 1, 1, 1, 1, 1, 0, 1, 0, 1, 0, 1, 1, 1, 0, 0, 0, 1, 0, 0, 1, 1,\n",
       "       0, 1, 0, 1, 1, 1, 1, 0, 0, 0, 1, 1, 0, 1, 1, 0, 0, 1, 1, 0, 0, 1,\n",
       "       1, 0, 0, 0, 1, 1, 0, 1, 1, 1, 1, 0, 0, 1, 0, 0, 1, 1, 1, 0, 1, 1,\n",
       "       0, 1, 0, 0, 1, 1, 1, 1, 1, 1, 1, 0, 0, 1, 1, 0, 1, 1, 1, 0, 0, 0,\n",
       "       1, 1, 0, 0, 1, 0, 1, 1, 1, 1, 1, 1, 1, 1, 0, 0, 1, 1, 1, 0, 1, 0,\n",
       "       0, 0, 0, 0, 0, 1, 0, 1, 1, 0, 0, 0, 1, 0, 1, 0, 0, 1, 1, 1, 0, 0,\n",
       "       0, 1, 1, 1, 1, 1, 1, 0, 1, 1, 0, 0, 0, 0, 1, 1, 0, 1, 1, 1, 0, 0,\n",
       "       1, 0, 1, 1, 0, 0, 1, 1, 0, 1, 1, 1, 0, 1, 1, 1, 0, 1, 0, 0, 1, 1,\n",
       "       1, 0, 0, 0, 1, 0, 1, 1, 1, 0, 0, 1, 0, 0, 0, 0, 0, 0, 1, 0, 1, 1,\n",
       "       0, 1])"
      ]
     },
     "execution_count": 10,
     "metadata": {},
     "output_type": "execute_result"
    }
   ],
   "source": [
    "# labels\n",
    "files[\"target\"]"
   ]
  },
  {
   "cell_type": "code",
   "execution_count": 12,
   "id": "0236c228",
   "metadata": {},
   "outputs": [
    {
     "data": {
      "text/plain": [
       "['custom', 'default']"
      ]
     },
     "execution_count": 12,
     "metadata": {},
     "output_type": "execute_result"
    }
   ],
   "source": [
    "# folder names\n",
    "files[\"target_names\"]"
   ]
  },
  {
   "cell_type": "code",
   "execution_count": 3,
   "id": "c68cec69",
   "metadata": {},
   "outputs": [],
   "source": [
    "def file_to_color_histogram(path):\n",
    "    \n",
    "    # open the file with pillow, resize it, normalize\n",
    "    image = Image.open(path)\n",
    "    image = image.resize((16, 16))\n",
    "    image = image.convert(\"RGB\")\n",
    "\n",
    "    # use numpy to extra an array of pixel data from the image\n",
    "    data = image.getdata()\n",
    "    pix = np.array(data)\n",
    "\n",
    "    # divide each pixel by 32 and round\n",
    "    pix = pix//32 \n",
    "\n",
    "    # convert octal numbers to decimal numbers\n",
    "    multiplier = np.array([8**2, 8**1, 8**0])\n",
    "\n",
    "    transformed_pixel_values = np.sum(pix*multiplier, axis=1)\n",
    "\n",
    "    feature_vector_omg = np.bincount(transformed_pixel_values, minlength=512)\n",
    "\n",
    "    return feature_vector_omg"
   ]
  },
  {
   "cell_type": "code",
   "execution_count": 5,
   "id": "108e7260",
   "metadata": {},
   "outputs": [
    {
     "data": {
      "text/plain": [
       "(512,)"
      ]
     },
     "execution_count": 5,
     "metadata": {},
     "output_type": "execute_result"
    }
   ],
   "source": [
    "# each histogram is an array of 8bits^3 (512 values) corresponding to the 8-bit colors in each image \n",
    "# and each element in the array is the count of the number of pixels of that color\n",
    "histograms = []\n",
    "for file in files[\"filenames\"]:\n",
    "    histogram = file_to_color_histogram(file)\n",
    "    histograms.append(histogram)"
   ]
  },
  {
   "cell_type": "code",
   "execution_count": 7,
   "id": "aeb6957b",
   "metadata": {},
   "outputs": [
    {
     "data": {
      "text/plain": [
       "array([14,  1,  0,  0,  0,  0,  0,  0,  0,  0,  0,  0,  0,  0,  0,  0,  0,\n",
       "        0,  0,  0,  0,  0,  0,  0,  0,  0,  0,  0,  0,  0,  0,  0,  0,  0,\n",
       "        0,  0,  0,  0,  0,  0,  0,  0,  0,  0,  0,  0,  0,  0,  0,  0,  0,\n",
       "        0,  0,  0,  0,  0,  0,  0,  0,  0,  0,  0,  0,  0,  2,  0,  0,  0,\n",
       "        0,  0,  0,  0,  1, 18,  0,  0,  0,  0,  0,  0,  0,  0,  0,  0,  0,\n",
       "        0,  0,  0,  0,  0,  0,  0,  0,  0,  0,  0,  0,  0,  0,  0,  0,  0,\n",
       "        0,  0,  0,  0,  0,  0,  0,  0,  0,  0,  0,  0,  0,  0,  0,  0,  0,\n",
       "        0,  0,  0,  0,  0,  0,  0,  0,  0,  4,  0,  0,  0,  0,  0,  0,  0,\n",
       "        0, 11,  0,  0,  0,  0,  0,  0,  0,  3, 16,  2,  0,  0,  0,  0,  0,\n",
       "        0,  0,  0,  0,  0,  0,  0,  0,  0,  0,  0,  0,  0,  0,  0,  0,  0,\n",
       "        0,  0,  0,  0,  0,  0,  0,  0,  0,  0,  0,  0,  0,  0,  0,  0,  0,\n",
       "        0,  0,  0,  0,  0,  4,  0,  0,  0,  0,  0,  0,  0,  0, 10,  0,  0,\n",
       "        0,  0,  0,  0,  0,  6, 16,  1,  0,  0,  0,  0,  0,  0,  0,  9,  0,\n",
       "        0,  0,  0,  0,  0,  0,  0,  0,  0,  0,  0,  0,  0,  0,  0,  0,  0,\n",
       "        0,  0,  0,  0,  0,  0,  0,  0,  0,  0,  0,  0,  0,  0,  0,  0,  0,\n",
       "        0,  0,  0,  0,  0,  0,  0,  0,  0,  0,  0,  0,  0,  0,  0,  0,  0,\n",
       "        0,  0,  1,  0,  0,  0,  0,  0,  0,  0,  3,  6,  0,  0,  0,  0,  0,\n",
       "        0,  0,  0,  8,  0,  0,  0,  0,  0,  0,  0,  0,  0,  0,  0,  0,  0,\n",
       "        0,  0,  0,  0,  0,  0,  0,  0,  0,  0,  0,  0,  0,  0,  0,  0,  0,\n",
       "        0,  0,  0,  0,  0,  0,  0,  0,  0,  0,  0,  0,  0,  0,  0,  0,  0,\n",
       "        0,  0,  0,  0,  0,  0,  0,  2,  0,  0,  0,  0,  0,  0,  0,  1,  3,\n",
       "        1,  0,  0,  0,  0,  0,  0,  1, 14,  2,  0,  0,  0,  0,  0,  0,  1,\n",
       "        3,  0,  0,  0,  0,  0,  0,  0,  0,  0,  0,  0,  0,  0,  0,  0,  0,\n",
       "        0,  0,  0,  0,  0,  0,  0,  0,  0,  0,  0,  0,  0,  0,  0,  0,  0,\n",
       "        0,  0,  0,  0,  0,  0,  0,  0,  0,  0,  0,  0,  2,  1,  0,  0,  0,\n",
       "        0,  0,  0,  1,  4,  1,  0,  0,  0,  0,  0,  0,  0, 66, 15,  0,  0,\n",
       "        0,  0,  0,  0,  0,  2,  0,  0,  0,  0,  0,  0,  0,  0,  0,  0,  0,\n",
       "        0,  0,  0,  0,  0,  0,  0,  0,  0,  0,  0,  0,  0,  0,  0,  0,  0,\n",
       "        0,  0,  0,  0,  0,  0,  0,  0,  0,  0,  0,  0,  0,  0,  0,  0,  0,\n",
       "        0,  0,  0,  0,  0,  0,  0,  0,  0,  0,  0,  0,  0,  0,  0,  0,  0,\n",
       "        0,  0])"
      ]
     },
     "execution_count": 7,
     "metadata": {},
     "output_type": "execute_result"
    }
   ],
   "source": [
    "histograms[0]"
   ]
  },
  {
   "cell_type": "code",
   "execution_count": 6,
   "id": "19b5acc0",
   "metadata": {},
   "outputs": [
    {
     "data": {
      "text/plain": [
       "(512,)"
      ]
     },
     "execution_count": 6,
     "metadata": {},
     "output_type": "execute_result"
    }
   ],
   "source": [
    "histograms[0].shape"
   ]
  },
  {
   "cell_type": "code",
   "execution_count": 16,
   "id": "16a5ce4f",
   "metadata": {},
   "outputs": [
    {
     "data": {
      "text/plain": [
       "[100, 100, 100, 100]"
      ]
     },
     "execution_count": 16,
     "metadata": {},
     "output_type": "execute_result"
    }
   ],
   "source": [
    "# split our histograms and labels into a training™ set and a validation™ set\n",
    "# use part of our dataset as a \"holdout set\" during training to get a sense \n",
    "# of how it will work on ral images\n",
    "\n",
    "# sometimes there's a \"test\" set that's used when you're developing the model to avoid overoptimizing for the test set, but we're not using it.\n",
    "\n",
    "# we'll use half as training, half as validation\n",
    "\n",
    "# TODO: considering balancing these sets so they have an equal number of \n",
    "# default and custom avatars\n",
    "training_set = histograms[0:len(histograms)//2]\n",
    "validation_set = histograms[len(histograms)//2:]\n",
    "\n",
    "labels = files[\"target\"]\n",
    "training_labels = labels[0:len(labels)//2]\n",
    "validation_labels = labels[len(labels)//2:]\n",
    "\n",
    "[len(training_set), len(validation_set), len(training_labels), len(validation_labels)]\n"
   ]
  },
  {
   "cell_type": "code",
   "execution_count": 21,
   "id": "c1334e1e",
   "metadata": {},
   "outputs": [
    {
     "data": {
      "text/plain": [
       "[Text(133.92000000000002, 190.26, 'X[511] <= 67.5\\ngini = 0.48\\nsamples = 100\\nvalue = [40, 60]'),\n",
       " Text(66.96000000000001, 135.9, 'gini = 0.0\\nsamples = 33\\nvalue = [33, 0]'),\n",
       " Text(200.88000000000002, 135.9, 'X[438] <= 2.0\\ngini = 0.187\\nsamples = 67\\nvalue = [7, 60]'),\n",
       " Text(133.92000000000002, 81.53999999999999, 'X[475] <= 1.5\\ngini = 0.032\\nsamples = 61\\nvalue = [1, 60]'),\n",
       " Text(66.96000000000001, 27.180000000000007, 'gini = 0.0\\nsamples = 60\\nvalue = [0, 60]'),\n",
       " Text(200.88000000000002, 27.180000000000007, 'gini = 0.0\\nsamples = 1\\nvalue = [1, 0]'),\n",
       " Text(267.84000000000003, 81.53999999999999, 'gini = 0.0\\nsamples = 6\\nvalue = [6, 0]')]"
      ]
     },
     "execution_count": 21,
     "metadata": {},
     "output_type": "execute_result"
    },
    {
     "data": {
      "image/png": "[encoded data removed]",
      "text/plain": [
       "<Figure size 432x288 with 1 Axes>"
      ]
     },
     "metadata": {
      "needs_background": "light"
     },
     "output_type": "display_data"
    }
   ],
   "source": [
    "# start with a simple decision tree\n",
    "# looks at all the data, finds the split that makes one group have most of one label, and another\n",
    "# group have most of another label\n",
    "\n",
    "# finds one feature, like the color black. If the number of black pixels is more than 100, that means 80% of \n",
    "# the custom images end up in one bucket. \n",
    "\n",
    "# (if that is the most discriminating feature that can split that feature into two, it picks that feature))\n",
    "\n",
    "# find the feature that splits it most coherently into two groups\n",
    "# then find the second-most splitting feature\n",
    "\n",
    "# the \"feature\" in this case will the number of pixels of a specific color\n",
    "# in this case, likely the gray background of the default avatars\n",
    "\n",
    "clf = tree.DecisionTreeClassifier()\n",
    "clf = clf.fit(training_set, training_labels)\n",
    "tree.plot_tree(clf)"
   ]
  },
  {
   "cell_type": "code",
   "execution_count": null,
   "id": "7f96c25f",
   "metadata": {},
   "outputs": [],
   "source": [
    "tree.plot_tree(clf)"
   ]
  },
  {
   "cell_type": "code",
   "execution_count": 40,
   "id": "f1042c36",
   "metadata": {},
   "outputs": [
    {
     "data": {
      "text/plain": [
       "<sklearn.tree._tree.Tree at 0x4074760d50>"
      ]
     },
     "execution_count": 40,
     "metadata": {},
     "output_type": "execute_result"
    }
   ],
   "source": [
    "clf.tree_"
   ]
  },
  {
   "cell_type": "code",
   "execution_count": 23,
   "id": "4d4e509b",
   "metadata": {},
   "outputs": [
    {
     "data": {
      "text/plain": [
       "1"
      ]
     },
     "execution_count": 23,
     "metadata": {},
     "output_type": "execute_result"
    }
   ],
   "source": [
    "# gini coefficient: goodness measure of how coherent the two groups are (zero is perfect, one (or 0.5) is useless)\n",
    "# it's what the decision tree uses to determine how to split\n",
    "\n",
    "# root node: if index 511 fewer or equal to than 67.5 of that color, split into two groups\n",
    "# group on the left: 33 custom images and no default images\n",
    "# group on the right: 7 custom, 60 default\n",
    "\n",
    "# TODO: write a little function that turns an index into a hex color so we can see what it looks like\n",
    "\n",
    "\n",
    "# throw all of the validation examples through the tree and see which nodes they end up with\n",
    "prediction = clf.predict(validation_set[:1])[0]\n",
    "prediction"
   ]
  },
  {
   "cell_type": "code",
   "execution_count": 29,
   "id": "cf325cd7",
   "metadata": {},
   "outputs": [
    {
     "data": {
      "text/plain": [
       "(138, 0, 0)"
      ]
     },
     "execution_count": 29,
     "metadata": {},
     "output_type": "execute_result"
    }
   ],
   "source": [
    "validation_set[0][511], validation_set[0][438], validation_set[0][475]"
   ]
  },
  {
   "cell_type": "code",
   "execution_count": 30,
   "id": "96e8a4c1",
   "metadata": {},
   "outputs": [
    {
     "data": {
      "text/plain": [
       "array([1, 1, 0, 0, 1, 1, 1, 0, 1, 0, 0, 0, 1, 0, 0, 1, 0, 1, 1, 0, 0, 0,\n",
       "       1, 0, 1, 1, 0, 1, 1, 1, 0, 0, 0, 1, 1, 1, 1, 1, 1, 0, 1, 1, 0, 0,\n",
       "       0, 0, 1, 0, 0, 1, 1, 1, 0, 0, 1, 0, 1, 1, 0, 0, 1, 1, 0, 1, 1, 1,\n",
       "       0, 1, 1, 1, 0, 1, 0, 0, 1, 1, 1, 0, 0, 0, 1, 0, 1, 1, 1, 0, 0, 1,\n",
       "       0, 0, 0, 0, 0, 1, 1, 0, 1, 1, 0, 1])"
      ]
     },
     "execution_count": 30,
     "metadata": {},
     "output_type": "execute_result"
    }
   ],
   "source": [
    "predictions = clf.predict(validation_set)\n",
    "predictions"
   ]
  },
  {
   "cell_type": "code",
   "execution_count": 32,
   "id": "2c99e91c",
   "metadata": {},
   "outputs": [
    {
     "data": {
      "text/plain": [
       "array([ True,  True,  True,  True,  True,  True,  True,  True,  True,\n",
       "        True,  True,  True, False,  True,  True,  True,  True,  True,\n",
       "        True,  True,  True,  True,  True,  True,  True, False,  True,\n",
       "        True,  True,  True,  True,  True,  True,  True,  True,  True,\n",
       "        True,  True,  True,  True,  True,  True,  True,  True,  True,\n",
       "        True,  True, False,  True,  True,  True,  True,  True,  True,\n",
       "        True,  True,  True,  True,  True,  True,  True,  True,  True,\n",
       "        True,  True,  True,  True,  True,  True,  True,  True,  True,\n",
       "        True,  True,  True,  True,  True,  True,  True,  True,  True,\n",
       "        True,  True,  True,  True,  True,  True,  True,  True,  True,\n",
       "        True,  True,  True, False,  True,  True,  True,  True,  True,\n",
       "        True])"
      ]
     },
     "execution_count": 32,
     "metadata": {},
     "output_type": "execute_result"
    }
   ],
   "source": [
    "np.equal(predictions, validation_labels)"
   ]
  },
  {
   "cell_type": "code",
   "execution_count": 33,
   "id": "6356c9c2",
   "metadata": {},
   "outputs": [
    {
     "data": {
      "text/plain": [
       "0.96"
      ]
     },
     "execution_count": 33,
     "metadata": {},
     "output_type": "execute_result"
    }
   ],
   "source": [
    "np.mean(np.equal(predictions, validation_labels))"
   ]
  },
  {
   "cell_type": "code",
   "execution_count": 36,
   "id": "40f00ac1",
   "metadata": {},
   "outputs": [
    {
     "data": {
      "text/plain": [
       "0"
      ]
     },
     "execution_count": 36,
     "metadata": {},
     "output_type": "execute_result"
    }
   ],
   "source": [
    "# download image, convert to histogram, call clf.predict on [histogram]\n",
    "histogram = file_to_color_histogram(\"smoke-tests/andreasjansson.png\")\n",
    "prediction = clf.predict([histogram])[0]\n",
    "prediction"
   ]
  },
  {
   "cell_type": "code",
   "execution_count": 37,
   "id": "59e901a2",
   "metadata": {},
   "outputs": [
    {
     "data": {
      "text/plain": [
       "1"
      ]
     },
     "execution_count": 37,
     "metadata": {},
     "output_type": "execute_result"
    }
   ],
   "source": [
    "histogram = file_to_color_histogram(\"smoke-tests/default.png\")\n",
    "prediction = clf.predict([histogram])[0]\n",
    "prediction"
   ]
  },
  {
   "cell_type": "code",
   "execution_count": null,
   "id": "6ad7f55d",
   "metadata": {},
   "outputs": [],
   "source": []
  }
 ],
 "metadata": {
  "kernelspec": {
   "display_name": "Python 3 (ipykernel)",
   "language": "python",
   "name": "python3"
  },
  "language_info": {
   "codemirror_mode": {
    "name": "ipython",
    "version": 3
   },
   "file_extension": ".py",
   "mimetype": "text/x-python",
   "name": "python",
   "nbconvert_exporter": "python",
   "pygments_lexer": "ipython3",
   "version": "3.9.9"
  }
 },
 "nbformat": 4,
 "nbformat_minor": 5
}
