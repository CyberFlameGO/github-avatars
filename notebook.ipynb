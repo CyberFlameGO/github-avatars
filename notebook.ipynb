{
 "cells": [
  {
   "cell_type": "code",
   "execution_count": 1,
   "id": "1fbbe1dd",
   "metadata": {},
   "outputs": [],
   "source": [
    "from sklearn import tree\n",
    "from sklearn.datasets import load_files\n",
    "import numpy as np\n",
    "import matplotlib.pyplot as plt\n",
    "from PIL import Image"
   ]
  },
  {
   "cell_type": "code",
   "execution_count": 2,
   "id": "e8320198",
   "metadata": {},
   "outputs": [],
   "source": [
    "files = load_files('./avatars', load_content=False)"
   ]
  },
  {
   "cell_type": "code",
   "execution_count": 3,
   "id": "aa8b6469",
   "metadata": {},
   "outputs": [
    {
     "data": {
      "text/plain": [
       "dict_keys(['filenames', 'target_names', 'target', 'DESCR'])"
      ]
     },
     "execution_count": 3,
     "metadata": {},
     "output_type": "execute_result"
    }
   ],
   "source": [
    "files.keys()"
   ]
  },
  {
   "cell_type": "code",
   "execution_count": 4,
   "id": "6e525e6d",
   "metadata": {},
   "outputs": [
    {
     "data": {
      "text/plain": [
       "array([0, 1, 1, 1, 1, 1, 0, 1, 0, 1, 0, 1, 1, 1, 0, 0, 0, 1, 0, 0, 1, 1,\n",
       "       0, 1, 0, 1, 1, 1, 1, 0, 0, 0, 1, 1, 0, 1, 1, 0, 0, 1, 1, 0, 0, 1,\n",
       "       1, 0, 0, 0, 1, 1, 0, 1, 1, 1, 1, 0, 0, 1, 0, 0, 1, 1, 1, 0, 1, 1,\n",
       "       0, 1, 0, 0, 1, 1, 1, 1, 1, 1, 1, 0, 0, 1, 1, 0, 1, 1, 1, 0, 0, 0,\n",
       "       1, 1, 0, 0, 1, 0, 1, 1, 1, 1, 1, 1, 1, 1, 0, 0, 1, 1, 1, 0, 1, 0,\n",
       "       0, 0, 0, 0, 0, 1, 0, 1, 1, 0, 0, 0, 1, 0, 1, 0, 0, 1, 1, 1, 0, 0,\n",
       "       0, 1, 1, 1, 1, 1, 1, 0, 1, 1, 0, 0, 0, 0, 1, 1, 0, 1, 1, 1, 0, 0,\n",
       "       1, 0, 1, 1, 0, 0, 1, 1, 0, 1, 1, 1, 0, 1, 1, 1, 0, 1, 0, 0, 1, 1,\n",
       "       1, 0, 0, 0, 1, 0, 1, 1, 1, 0, 0, 1, 0, 0, 0, 0, 0, 0, 1, 0, 1, 1,\n",
       "       0, 1])"
      ]
     },
     "execution_count": 4,
     "metadata": {},
     "output_type": "execute_result"
    }
   ],
   "source": [
    "# labels\n",
    "files[\"target\"]"
   ]
  },
  {
   "cell_type": "code",
   "execution_count": 5,
   "id": "0236c228",
   "metadata": {},
   "outputs": [
    {
     "data": {
      "text/plain": [
       "['custom', 'default']"
      ]
     },
     "execution_count": 5,
     "metadata": {},
     "output_type": "execute_result"
    }
   ],
   "source": [
    "# folder names\n",
    "files[\"target_names\"]"
   ]
  },
  {
   "cell_type": "code",
   "execution_count": 6,
   "id": "c68cec69",
   "metadata": {},
   "outputs": [],
   "source": [
    "def file_to_color_histogram(path):\n",
    "    \n",
    "    # open the file with pillow, resize it, normalize\n",
    "    image = Image.open(path)\n",
    "    image = image.resize((16, 16))\n",
    "    image = image.convert(\"RGB\")\n",
    "\n",
    "    # use numpy to extra an array of pixel data from the image\n",
    "    data = image.getdata()\n",
    "    pix = np.array(data)\n",
    "\n",
    "    # divide each pixel by 32 and round\n",
    "    pix = pix//32 \n",
    "\n",
    "    # convert octal numbers to decimal numbers\n",
    "    multiplier = np.array([8**2, 8**1, 8**0])\n",
    "\n",
    "    transformed_pixel_values = np.sum(pix*multiplier, axis=1)\n",
    "\n",
    "    # count number of occurrences of each value in array of non-negative ints\n",
    "    feature_vector_omg = np.bincount(transformed_pixel_values, minlength=512)\n",
    "\n",
    "    return feature_vector_omg"
   ]
  },
  {
   "cell_type": "code",
   "execution_count": 7,
   "id": "108e7260",
   "metadata": {},
   "outputs": [],
   "source": [
    "# each histogram is an array of 8bits^3 (512 values) corresponding to the 8-bit colors in each image \n",
    "# and each element in the array is the count of the number of pixels of that color\n",
    "histograms = []\n",
    "for file in files[\"filenames\"]:\n",
    "    histogram = file_to_color_histogram(file)\n",
    "    histograms.append(histogram)"
   ]
  },
  {
   "cell_type": "code",
   "execution_count": 8,
   "id": "aeb6957b",
   "metadata": {},
   "outputs": [
    {
     "data": {
      "text/plain": [
       "array([14,  1,  0,  0,  0,  0,  0,  0,  0,  0,  0,  0,  0,  0,  0,  0,  0,\n",
       "        0,  0,  0,  0,  0,  0,  0,  0,  0,  0,  0,  0,  0,  0,  0,  0,  0,\n",
       "        0,  0,  0,  0,  0,  0,  0,  0,  0,  0,  0,  0,  0,  0,  0,  0,  0,\n",
       "        0,  0,  0,  0,  0,  0,  0,  0,  0,  0,  0,  0,  0,  2,  0,  0,  0,\n",
       "        0,  0,  0,  0,  1, 18,  0,  0,  0,  0,  0,  0,  0,  0,  0,  0,  0,\n",
       "        0,  0,  0,  0,  0,  0,  0,  0,  0,  0,  0,  0,  0,  0,  0,  0,  0,\n",
       "        0,  0,  0,  0,  0,  0,  0,  0,  0,  0,  0,  0,  0,  0,  0,  0,  0,\n",
       "        0,  0,  0,  0,  0,  0,  0,  0,  0,  4,  0,  0,  0,  0,  0,  0,  0,\n",
       "        0, 11,  0,  0,  0,  0,  0,  0,  0,  3, 16,  2,  0,  0,  0,  0,  0,\n",
       "        0,  0,  0,  0,  0,  0,  0,  0,  0,  0,  0,  0,  0,  0,  0,  0,  0,\n",
       "        0,  0,  0,  0,  0,  0,  0,  0,  0,  0,  0,  0,  0,  0,  0,  0,  0,\n",
       "        0,  0,  0,  0,  0,  4,  0,  0,  0,  0,  0,  0,  0,  0, 10,  0,  0,\n",
       "        0,  0,  0,  0,  0,  6, 16,  1,  0,  0,  0,  0,  0,  0,  0,  9,  0,\n",
       "        0,  0,  0,  0,  0,  0,  0,  0,  0,  0,  0,  0,  0,  0,  0,  0,  0,\n",
       "        0,  0,  0,  0,  0,  0,  0,  0,  0,  0,  0,  0,  0,  0,  0,  0,  0,\n",
       "        0,  0,  0,  0,  0,  0,  0,  0,  0,  0,  0,  0,  0,  0,  0,  0,  0,\n",
       "        0,  0,  1,  0,  0,  0,  0,  0,  0,  0,  3,  6,  0,  0,  0,  0,  0,\n",
       "        0,  0,  0,  8,  0,  0,  0,  0,  0,  0,  0,  0,  0,  0,  0,  0,  0,\n",
       "        0,  0,  0,  0,  0,  0,  0,  0,  0,  0,  0,  0,  0,  0,  0,  0,  0,\n",
       "        0,  0,  0,  0,  0,  0,  0,  0,  0,  0,  0,  0,  0,  0,  0,  0,  0,\n",
       "        0,  0,  0,  0,  0,  0,  0,  2,  0,  0,  0,  0,  0,  0,  0,  1,  3,\n",
       "        1,  0,  0,  0,  0,  0,  0,  1, 14,  2,  0,  0,  0,  0,  0,  0,  1,\n",
       "        3,  0,  0,  0,  0,  0,  0,  0,  0,  0,  0,  0,  0,  0,  0,  0,  0,\n",
       "        0,  0,  0,  0,  0,  0,  0,  0,  0,  0,  0,  0,  0,  0,  0,  0,  0,\n",
       "        0,  0,  0,  0,  0,  0,  0,  0,  0,  0,  0,  0,  2,  1,  0,  0,  0,\n",
       "        0,  0,  0,  1,  4,  1,  0,  0,  0,  0,  0,  0,  0, 66, 15,  0,  0,\n",
       "        0,  0,  0,  0,  0,  2,  0,  0,  0,  0,  0,  0,  0,  0,  0,  0,  0,\n",
       "        0,  0,  0,  0,  0,  0,  0,  0,  0,  0,  0,  0,  0,  0,  0,  0,  0,\n",
       "        0,  0,  0,  0,  0,  0,  0,  0,  0,  0,  0,  0,  0,  0,  0,  0,  0,\n",
       "        0,  0,  0,  0,  0,  0,  0,  0,  0,  0,  0,  0,  0,  0,  0,  0,  0,\n",
       "        0,  0])"
      ]
     },
     "execution_count": 8,
     "metadata": {},
     "output_type": "execute_result"
    }
   ],
   "source": [
    "histograms[0]"
   ]
  },
  {
   "cell_type": "code",
   "execution_count": 9,
   "id": "19b5acc0",
   "metadata": {},
   "outputs": [
    {
     "data": {
      "text/plain": [
       "(512,)"
      ]
     },
     "execution_count": 9,
     "metadata": {},
     "output_type": "execute_result"
    }
   ],
   "source": [
    "histograms[0].shape"
   ]
  },
  {
   "cell_type": "code",
   "execution_count": 10,
   "id": "16a5ce4f",
   "metadata": {},
   "outputs": [
    {
     "data": {
      "text/plain": [
       "[100, 100, 100, 100]"
      ]
     },
     "execution_count": 10,
     "metadata": {},
     "output_type": "execute_result"
    }
   ],
   "source": [
    "# split our histograms and labels into a \"training\" set and a \"validation\" set\n",
    "# use part of our dataset as a \"holdout set\" during training to get a sense of how it will work on real images\n",
    "\n",
    "# (sometimes there's a \"test\" set that's used when you're developing the model to avoid overoptimizing \n",
    "# for the validation set, but we're not using it.)\n",
    "\n",
    "# we'll use half as training, half as validation\n",
    "\n",
    "# TODO: considering balancing these sets so they have an equal number of default and custom avatars\n",
    "\n",
    "training_set = histograms[0:len(histograms)//2]\n",
    "validation_set = histograms[len(histograms)//2:]\n",
    "\n",
    "labels = files[\"target\"]\n",
    "training_labels = labels[0:len(labels)//2]\n",
    "validation_labels = labels[len(labels)//2:]\n",
    "\n",
    "[len(training_set), len(validation_set), len(training_labels), len(validation_labels)]\n"
   ]
  },
  {
   "cell_type": "code",
   "execution_count": 11,
   "id": "c1334e1e",
   "metadata": {},
   "outputs": [
    {
     "data": {
      "text/plain": [
       "[Text(133.92000000000002, 190.26, 'X[511] <= 67.5\\ngini = 0.48\\nsamples = 100\\nvalue = [40, 60]'),\n",
       " Text(66.96000000000001, 135.9, 'gini = 0.0\\nsamples = 33\\nvalue = [33, 0]'),\n",
       " Text(200.88000000000002, 135.9, 'X[438] <= 2.0\\ngini = 0.187\\nsamples = 67\\nvalue = [7, 60]'),\n",
       " Text(133.92000000000002, 81.53999999999999, 'X[483] <= 0.5\\ngini = 0.032\\nsamples = 61\\nvalue = [1, 60]'),\n",
       " Text(66.96000000000001, 27.180000000000007, 'gini = 0.0\\nsamples = 60\\nvalue = [0, 60]'),\n",
       " Text(200.88000000000002, 27.180000000000007, 'gini = 0.0\\nsamples = 1\\nvalue = [1, 0]'),\n",
       " Text(267.84000000000003, 81.53999999999999, 'gini = 0.0\\nsamples = 6\\nvalue = [6, 0]')]"
      ]
     },
     "execution_count": 11,
     "metadata": {},
     "output_type": "execute_result"
    },
    {
     "data": {
      "image/png": "[encoded data removed]",
      "text/plain": [
       "<Figure size 432x288 with 1 Axes>"
      ]
     },
     "metadata": {
      "needs_background": "light"
     },
     "output_type": "display_data"
    }
   ],
   "source": [
    "# start with a simple decision tree\n",
    "# looks at all the data, finds the split that makes one group have most of one label, and another\n",
    "# group have most of another label\n",
    "\n",
    "# finds one feature, like the color black. If the number of black pixels is more than 100, that means 80% of \n",
    "# the custom images end up in one bucket. \n",
    "\n",
    "# (if that is the most discriminating feature that can split that feature into two, it picks that feature))\n",
    "\n",
    "# find the feature that splits it most coherently into two groups\n",
    "# then find the second-most splitting feature\n",
    "\n",
    "# the \"feature\" in this case will the number of pixels of a specific color\n",
    "# in this case, likely the gray background of the default avatars\n",
    "\n",
    "clf = tree.DecisionTreeClassifier()\n",
    "clf = clf.fit(training_set, training_labels)\n",
    "tree.plot_tree(clf)"
   ]
  },
  {
   "cell_type": "code",
   "execution_count": 14,
   "id": "4d4e509b",
   "metadata": {},
   "outputs": [
    {
     "data": {
      "text/plain": [
       "1"
      ]
     },
     "execution_count": 14,
     "metadata": {},
     "output_type": "execute_result"
    }
   ],
   "source": [
    "# gini coefficient: goodness measure of how coherent the two groups are (zero is perfect, one (or 0.5?) is useless)\n",
    "# it's what the decision tree uses to determine how to split\n",
    "\n",
    "# root node: if index 511 fewer or equal to than 67.5 of that color, split into two groups\n",
    "# group on the left: 33 custom images and no default images\n",
    "# group on the right: 7 custom, 60 default\n",
    "\n",
    "# TODO: write a little function that turns an index into a hex color so we can see what it looks like\n",
    "\n",
    "# throw all of the validation examples through the tree and see which nodes they end up with\n",
    "prediction = clf.predict(validation_set[:1])[0]\n",
    "prediction"
   ]
  },
  {
   "cell_type": "code",
   "execution_count": 15,
   "id": "cf325cd7",
   "metadata": {},
   "outputs": [
    {
     "data": {
      "text/plain": [
       "(138, 0, 0)"
      ]
     },
     "execution_count": 15,
     "metadata": {},
     "output_type": "execute_result"
    }
   ],
   "source": [
    "validation_set[0][511], validation_set[0][438], validation_set[0][475]"
   ]
  },
  {
   "cell_type": "code",
   "execution_count": 16,
   "id": "96e8a4c1",
   "metadata": {},
   "outputs": [
    {
     "data": {
      "text/plain": [
       "array([1, 1, 0, 0, 1, 1, 1, 0, 1, 0, 0, 0, 1, 0, 0, 1, 0, 1, 1, 0, 0, 0,\n",
       "       1, 0, 1, 1, 0, 1, 1, 1, 0, 0, 0, 1, 1, 1, 1, 1, 1, 0, 1, 1, 0, 0,\n",
       "       0, 0, 1, 0, 0, 1, 1, 1, 0, 0, 1, 0, 1, 1, 0, 0, 1, 1, 0, 1, 1, 1,\n",
       "       0, 1, 1, 1, 0, 1, 0, 0, 1, 1, 1, 0, 0, 0, 1, 0, 1, 1, 1, 0, 0, 1,\n",
       "       0, 0, 0, 0, 0, 1, 1, 0, 1, 1, 0, 1])"
      ]
     },
     "execution_count": 16,
     "metadata": {},
     "output_type": "execute_result"
    }
   ],
   "source": [
    "predictions = clf.predict(validation_set)\n",
    "predictions"
   ]
  },
  {
   "cell_type": "code",
   "execution_count": 17,
   "id": "2c99e91c",
   "metadata": {},
   "outputs": [
    {
     "data": {
      "text/plain": [
       "array([ True,  True,  True,  True,  True,  True,  True,  True,  True,\n",
       "        True,  True,  True, False,  True,  True,  True,  True,  True,\n",
       "        True,  True,  True,  True,  True,  True,  True, False,  True,\n",
       "        True,  True,  True,  True,  True,  True,  True,  True,  True,\n",
       "        True,  True,  True,  True,  True,  True,  True,  True,  True,\n",
       "        True,  True, False,  True,  True,  True,  True,  True,  True,\n",
       "        True,  True,  True,  True,  True,  True,  True,  True,  True,\n",
       "        True,  True,  True,  True,  True,  True,  True,  True,  True,\n",
       "        True,  True,  True,  True,  True,  True,  True,  True,  True,\n",
       "        True,  True,  True,  True,  True,  True,  True,  True,  True,\n",
       "        True,  True,  True, False,  True,  True,  True,  True,  True,\n",
       "        True])"
      ]
     },
     "execution_count": 17,
     "metadata": {},
     "output_type": "execute_result"
    }
   ],
   "source": [
    "# how well did the model do?\n",
    "np.equal(predictions, validation_labels)"
   ]
  },
  {
   "cell_type": "code",
   "execution_count": 18,
   "id": "6356c9c2",
   "metadata": {},
   "outputs": [
    {
     "data": {
      "text/plain": [
       "0.96"
      ]
     },
     "execution_count": 18,
     "metadata": {},
     "output_type": "execute_result"
    }
   ],
   "source": [
    "# what's our accuracy?\n",
    "np.mean(np.equal(predictions, validation_labels))"
   ]
  },
  {
   "cell_type": "code",
   "execution_count": 19,
   "id": "40f00ac1",
   "metadata": {},
   "outputs": [
    {
     "data": {
      "text/plain": [
       "0"
      ]
     },
     "execution_count": 19,
     "metadata": {},
     "output_type": "execute_result"
    }
   ],
   "source": [
    "# try it out on a custom avatar\n",
    "histogram = file_to_color_histogram(\"smoke-tests/andreasjansson.png\")\n",
    "prediction = clf.predict([histogram])[0]\n",
    "prediction"
   ]
  },
  {
   "cell_type": "code",
   "execution_count": 20,
   "id": "59e901a2",
   "metadata": {},
   "outputs": [
    {
     "data": {
      "text/plain": [
       "1"
      ]
     },
     "execution_count": 20,
     "metadata": {},
     "output_type": "execute_result"
    }
   ],
   "source": [
    "# try it out on a default avatar\n",
    "histogram = file_to_color_histogram(\"smoke-tests/default.png\")\n",
    "prediction = clf.predict([histogram])[0]\n",
    "prediction"
   ]
  },
  {
   "cell_type": "code",
   "execution_count": null,
   "id": "6ad7f55d",
   "metadata": {},
   "outputs": [],
   "source": []
  }
 ],
 "metadata": {
  "kernelspec": {
   "display_name": "Python 3 (ipykernel)",
   "language": "python",
   "name": "python3"
  },
  "language_info": {
   "codemirror_mode": {
    "name": "ipython",
    "version": 3
   },
   "file_extension": ".py",
   "mimetype": "text/x-python",
   "name": "python",
   "nbconvert_exporter": "python",
   "pygments_lexer": "ipython3",
   "version": "3.9.9"
  }
 },
 "nbformat": 4,
 "nbformat_minor": 5
}
